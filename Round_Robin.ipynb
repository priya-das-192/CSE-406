{
  "nbformat": 4,
  "nbformat_minor": 0,
  "metadata": {
    "colab": {
      "provenance": []
    },
    "kernelspec": {
      "name": "python3",
      "display_name": "Python 3"
    },
    "language_info": {
      "name": "python"
    }
  },
  "cells": [
    {
      "cell_type": "code",
      "source": [],
      "metadata": {
        "id": "2B4Gxp4DAAQ8"
      },
      "execution_count": null,
      "outputs": []
    },
    {
      "cell_type": "code",
      "source": [
        "n=int(input(\"Enter number of processes :\"))\n",
        "p=[]\n",
        "for i in range(n):\n",
        "    at=int(input(f\"Enter arrival time for P{i+1}:\"))\n",
        "    bt=int(input(f\"Enter burst time for P{i+1}:\"))\n",
        "    p.append([f\"P{i+1}\",at,bt,bt])\n",
        "t_q=int(input(\"Enter TimeQuant:\"))\n",
        "time=0\n",
        "queue=[]\n",
        "complete=0\n",
        "r_queue=[False]*n\n",
        "ct=[0]*n\n",
        "tat=[0]*n\n",
        "wt=[0]*n\n",
        "\n",
        "p.sort(key=lambda x:x[1])\n",
        "queue.append(0)\n",
        "r_queue[0]=True\n",
        "time=p[0][1]\n",
        "while complete<n:\n",
        "    if queue:\n",
        "        i=queue.pop(0)\n",
        "        if p[i][3]>t_q:\n",
        "            time+=t_q\n",
        "            p[i][3]-=t_q\n",
        "        else:\n",
        "            time += p[i][3]\n",
        "            p[i][3]=0\n",
        "            ct[i]=time\n",
        "            tat[i]=ct[i]-p[i][1]\n",
        "            wt[i]=tat[i]-p[i][2]\n",
        "            complete+= 1\n",
        "        for j in range(n):\n",
        "            if not r_queue[j] and p[j][1]<=time:\n",
        "                queue.append(j)\n",
        "                r_queue[j]=True\n",
        "        if p[i][3]>0:\n",
        "            queue.append(i)\n",
        "    else:\n",
        "        for j in range(n):\n",
        "            if not r_queue[j]:\n",
        "                queue.append(j)\n",
        "                r_queue[j]=True\n",
        "                time=p[j][1]\n",
        "                break\n",
        "print(\"\\nPID\\tAT\\tBT\\tCT\\tTAT\\tWT\")\n",
        "total_wt = 0\n",
        "for i in range(n):\n",
        "    print(f\"{p[i][0]}\\t{p[i][1]}\\t{p[i][2]}\\t{ct[i]}\\t{tat[i]}\\t{wt[i]}\")\n",
        "    total_wt += wt[i]\n",
        "print(f\"\\nAverage Waiting Time: {total_wt/n}\")\n"
      ],
      "metadata": {
        "colab": {
          "base_uri": "https://localhost:8080/"
        },
        "id": "T33RymgZAAJU",
        "outputId": "524a55d9-6ace-4ee4-88d2-ac0b99e437be"
      },
      "execution_count": null,
      "outputs": [
        {
          "output_type": "stream",
          "name": "stdout",
          "text": [
            "Enter number of processes :5\n",
            "Enter arrival time for P1:0\n",
            "Enter burst time for P1:5\n",
            "Enter arrival time for P2:1\n",
            "Enter burst time for P2:3\n",
            "Enter arrival time for P3:2\n",
            "Enter burst time for P3:1\n",
            "Enter arrival time for P4:3\n",
            "Enter burst time for P4:2\n",
            "Enter arrival time for P5:4\n",
            "Enter burst time for P5:3\n",
            "Enter TimeQuant:2\n",
            "\n",
            "PID\tAT\tBT\tCT\tTAT\tWT\n",
            "P1\t0\t5\t13\t13\t8\n",
            "P2\t1\t3\t12\t11\t8\n",
            "P3\t2\t1\t5\t3\t2\n",
            "P4\t3\t2\t9\t6\t4\n",
            "P5\t4\t3\t14\t10\t7\n",
            "\n",
            "Average Waiting Time: 5.8\n"
          ]
        }
      ]
    }
  ]
}