{
  "nbformat": 4,
  "nbformat_minor": 0,
  "metadata": {
    "colab": {
      "provenance": []
    },
    "kernelspec": {
      "name": "python3",
      "display_name": "Python 3"
    },
    "language_info": {
      "name": "python"
    }
  },
  "cells": [
    {
      "cell_type": "code",
      "source": [
        "n=int(input(\"Enter number of processes: \"))\n",
        "processes=[]\n",
        "for i in range(n):\n",
        "    pid=f\"P{i+1}\"\n",
        "    at=int(input(f\"Enter Arrival Time for {pid}: \"))\n",
        "    bt=int(input(f\"Enter Burst Time for {pid}: \"))\n",
        "    processes.append([pid,at,bt,bt])\n",
        "processes.sort(key=lambda x:x[1])\n",
        "completed=[]\n",
        "current_h=0\n",
        "while processes:\n",
        "  ready_processes=[]\n",
        "  for i in processes:\n",
        "    if i[1]<=current_h and i not in completed:\n",
        "      ready_processes.append(i)\n",
        "  if not ready_processes:\n",
        "    current_h +=1\n",
        "    continue\n",
        "  ready_processes.sort(key=lambda x:x[2])\n",
        "  current_processes=ready_processes[0]\n",
        "  processes.remove(current_processes)\n",
        "\n",
        "  pid = current_processes[0]\n",
        "  at = current_processes[1]\n",
        "  bt = current_processes[2]\n",
        "  ct = current_h + bt\n",
        "  tat = ct - at\n",
        "  wt = tat - bt\n",
        "  completed.append([pid,at,bt,ct,tat,wt])\n",
        "  current_h=ct\n",
        "completed.sort(key=lambda x:x[0])\n",
        "print(\"\\nPID\\tAT\\tBT\\tCT\\tTAT\\tWT\")\n",
        "for i in completed:\n",
        "  print(f\"{i[0]}\\t{i[1]}\\t{i[2]}\\t{i[3]}\\t{i[4]}\\t{i[5]}\")\n",
        "\n",
        "\n",
        "\n"
      ],
      "metadata": {
        "id": "f5KQ2FjK6VMq",
        "colab": {
          "base_uri": "https://localhost:8080/"
        },
        "outputId": "81664093-3282-40b9-a312-c332819a0b65"
      },
      "execution_count": 5,
      "outputs": [
        {
          "output_type": "stream",
          "name": "stdout",
          "text": [
            "Enter number of processes: 4\n",
            "Enter Arrival Time for P1: 0\n",
            "Enter Burst Time for P1: 6\n",
            "Enter Arrival Time for P2: 1\n",
            "Enter Burst Time for P2: 8\n",
            "Enter Arrival Time for P3: 2\n",
            "Enter Burst Time for P3: 7\n",
            "Enter Arrival Time for P4: 3\n",
            "Enter Burst Time for P4: 3\n",
            "\n",
            "PID\tAT\tBT\tCT\tTAT\tWT\n",
            "P1\t0\t6\t6\t6\t0\n",
            "P2\t1\t8\t24\t23\t15\n",
            "P3\t2\t7\t16\t14\t7\n",
            "P4\t3\t3\t9\t6\t3\n"
          ]
        }
      ]
    },
    {
      "cell_type": "code",
      "source": [
        "requests=list(map(int,input(\"Enter disk reuquests:\").split()))\n",
        "head=int(input(\"Enter head:\"))\n",
        "current=head\n",
        "total_seek_t=0\n",
        "print(\"Sequence:\",current,end=\"\")\n",
        "if head in requests:\n",
        "    requests.remove(head)\n",
        "while requests:\n",
        "    closest=requests[0]\n",
        "    min_distance=abs(current-closest)\n",
        "    for i in requests:\n",
        "        distance=abs(current-i)\n",
        "        if distance<min_distance:\n",
        "            min_distance=distance\n",
        "            closest=i\n",
        "    print(\"-->\",closest,end=\"\")\n",
        "    total_seek_t+=min_distance\n",
        "    current=closest\n",
        "    requests.remove(closest)\n",
        "print(\"\\nTotal Seek Time:\",total_seek_t)\n"
      ],
      "metadata": {
        "colab": {
          "base_uri": "https://localhost:8080/"
        },
        "id": "LwJSGp_0KTu_",
        "outputId": "ab0fd6c6-046c-4b07-9992-29988929f25a"
      },
      "execution_count": 8,
      "outputs": [
        {
          "output_type": "stream",
          "name": "stdout",
          "text": [
            "Enter disk reuquests:98 183 37 122 14 124 65 67\n",
            "Enter head:53 \n",
            "Sequence: 53--> 65--> 67--> 37--> 14--> 98--> 122--> 124--> 183\n",
            "Total Seek Time: 236\n"
          ]
        }
      ]
    }
  ]
}