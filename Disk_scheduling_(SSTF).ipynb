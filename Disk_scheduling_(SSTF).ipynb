{
  "nbformat": 4,
  "nbformat_minor": 0,
  "metadata": {
    "colab": {
      "provenance": []
    },
    "kernelspec": {
      "name": "python3",
      "display_name": "Python 3"
    },
    "language_info": {
      "name": "python"
    }
  },
  "cells": [
    {
      "cell_type": "code",
      "execution_count": 3,
      "metadata": {
        "colab": {
          "base_uri": "https://localhost:8080/"
        },
        "id": "6G5W_Lg9H-6z",
        "outputId": "f5e0065d-e226-47bb-837b-1d8ef8de3ddb"
      },
      "outputs": [
        {
          "output_type": "stream",
          "name": "stdout",
          "text": [
            "Total disk requests: 6\n",
            "Enter disk request: 39\n",
            "Enter disk request: 49\n",
            "Enter disk request: 26\n",
            "Enter disk request: 90\n",
            "Enter disk request: 114\n",
            "Enter disk request: 176\n",
            "Enter initial head position: 39\n",
            "Seek Sequence: [39, 49, 26, 90, 114, 176]\n",
            "Total Distance: 183\n"
          ]
        }
      ],
      "source": [
        "requests = []\n",
        "n = int(input(\"Total disk requests: \"))\n",
        "for i in range(n):\n",
        "    j = int(input(\"Enter disk request: \"))\n",
        "    requests.append(j)\n",
        "head = int(input(\"Enter initial head position: \"))\n",
        "current = head\n",
        "total_distance = 0\n",
        "sequence = []\n",
        "while requests:\n",
        "    nearest = min(requests, key=lambda x: abs(current - x))\n",
        "    distance = abs(current - nearest)\n",
        "    total_distance += distance\n",
        "    current = nearest\n",
        "    sequence.append(nearest)\n",
        "    requests.remove(nearest)\n",
        "print(\"Seek Sequence:\", sequence)\n",
        "print(\"Total Distance:\", total_distance)"
      ]
    }
  ]
}