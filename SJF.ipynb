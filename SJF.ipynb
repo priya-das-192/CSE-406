{
  "nbformat": 4,
  "nbformat_minor": 0,
  "metadata": {
    "colab": {
      "provenance": []
    },
    "kernelspec": {
      "name": "python3",
      "display_name": "Python 3"
    },
    "language_info": {
      "name": "python"
    }
  },
  "cells": [
    {
      "cell_type": "code",
      "source": [
        "n = int(input(\"Enter number of processe: \"))\n",
        "\n",
        "processes = []\n",
        "\n",
        "for i in range(n):\n",
        "    pid = f'P{i+1}'\n",
        "    at = int(input(f\"Enter Arrival Time {pid}: \"))\n",
        "    bt = int(input(f\"Enter Burst Time {pid}: \"))\n",
        "    processes.append({'PID': pid, 'AT': at, 'BT': bt})\n",
        "\n",
        "time = 0\n",
        "completed = []\n",
        "while len(completed) < n:\n",
        "    ready = [p for p in processes if p['AT'] <= time and 'CT' not in p]\n",
        "    if not ready:\n",
        "        time += 1\n",
        "        continue\n",
        "\n",
        "    current= min(ready, key=lambda x: x['BT'])\n",
        "    time += current['BT']\n",
        "    current['CT'] =time\n",
        "    current['TAT'] =current['CT'] -current['AT']\n",
        "    current['WT']= current['TAT']-current['BT']\n",
        "    completed.append(current)\n",
        "\n",
        "print(\"\\nPID\\tAT\\tBT\\tCT\\tTAT\\tWT\")\n",
        "total_wt = total_tat=0\n",
        "for p in processes:\n",
        "    print(f\"{p['PID']}\\t{p['AT']}\\t{p['BT']}\\t{p['CT']}\\t{p['TAT']}\\t{p['WT']}\")\n",
        "    total_wt +=p['WT']\n",
        "    total_tat +=p['TAT']\n",
        "\n",
        "print(f\"\\nAverage Waiting Time: {total_wt/n:.2f}\")\n",
        "print(f\"Average Turnaround Time: {total_tat/n:.2f}\")\n"
      ],
      "metadata": {
        "colab": {
          "base_uri": "https://localhost:8080/"
        },
        "id": "FhN-HFR3xcy1",
        "outputId": "0779445d-ff36-4421-a228-7dfcf279fa0e"
      },
      "execution_count": 3,
      "outputs": [
        {
          "output_type": "stream",
          "name": "stdout",
          "text": [
            "Enter number of processes: 5\n",
            "Enter Arrival Time for P1: 0\n",
            "Enter Burst Time for P1: 3\n",
            "Enter Arrival Time for P2: 1\n",
            "Enter Burst Time for P2: 2\n",
            "Enter Arrival Time for P3: 2\n",
            "Enter Burst Time for P3: 1\n",
            "Enter Arrival Time for P4: 3\n",
            "Enter Burst Time for P4: 4\n",
            "Enter Arrival Time for P5: 0\n",
            "Enter Burst Time for P5: 2\n",
            "\n",
            "PID\tAT\tBT\tCT\tTAT\tWT\n",
            "P1\t0\t3\t8\t8\t5\n",
            "P2\t1\t2\t5\t4\t2\n",
            "P3\t2\t1\t3\t1\t0\n",
            "P4\t3\t4\t12\t9\t5\n",
            "P5\t0\t2\t2\t2\t0\n",
            "\n",
            "Average Waiting Time: 2.40\n",
            "Average Turnaround Time: 4.80\n"
          ]
        }
      ]
    }
  ]
}