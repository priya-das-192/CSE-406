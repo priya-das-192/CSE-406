{
  "nbformat": 4,
  "nbformat_minor": 0,
  "metadata": {
    "colab": {
      "provenance": []
    },
    "kernelspec": {
      "name": "python3",
      "display_name": "Python 3"
    },
    "language_info": {
      "name": "python"
    }
  },
  "cells": [
    {
      "cell_type": "code",
      "source": [
        "list=[]\n",
        "n=int(input(\"total disk number: \"))\n",
        "for i in range(n):\n",
        " j=int(input(\"enter disk:\"))\n",
        " list.append(j)\n",
        "head=int(input(\"Enter head : \"))\n",
        "current=head\n",
        "total_distance=0\n",
        "for i in list:\n",
        "  if head==i:\n",
        "    continue\n",
        "  else:\n",
        "    total_distance+=abs(current-i)\n",
        "    current=i\n",
        "print(\"\\n total distance :\",total_distance)\n"
      ],
      "metadata": {
        "colab": {
          "base_uri": "https://localhost:8080/"
        },
        "id": "xPeeuHE838eJ",
        "outputId": "4e0e52b6-dc71-4b33-98b1-aa582d38c6f5"
      },
      "execution_count": null,
      "outputs": [
        {
          "output_type": "stream",
          "name": "stdout",
          "text": [
            "total disk number: 5\n",
            "enter disk:176\n",
            "enter disk:39\n",
            "enter disk:114\n",
            "enter disk:90\n",
            "enter disk:26\n",
            "Enter head : 39\n",
            "\n",
            " total distance : 287\n"
          ]
        }
      ]
    }
  ]
}