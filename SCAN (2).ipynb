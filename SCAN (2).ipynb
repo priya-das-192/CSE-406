{
  "nbformat": 4,
  "nbformat_minor": 0,
  "metadata": {
    "colab": {
      "provenance": []
    },
    "kernelspec": {
      "name": "python3",
      "display_name": "Python 3"
    },
    "language_info": {
      "name": "python"
    }
  },
  "cells": [
    {
      "cell_type": "code",
      "execution_count": 7,
      "metadata": {
        "colab": {
          "base_uri": "https://localhost:8080/"
        },
        "id": "ASegJugpEVNs",
        "outputId": "bd4fc6d1-beb5-48ef-baa1-954e27c42037"
      },
      "outputs": [
        {
          "output_type": "stream",
          "name": "stdout",
          "text": [
            "Enter requests: 14 20 29 40 50 110\n",
            "Enter initial head position: 29\n",
            "Seek Sequence: [29, 20, 14, 40, 50, 110]\n",
            "Total seek time: 111\n"
          ]
        }
      ],
      "source": [
        "requests = list(map(int, input(\"Enter requests: \").split()))\n",
        "head = int(input(\"Enter initial head position: \"))\n",
        "\n",
        "original_head = head\n",
        "requests.sort()\n",
        "if head in requests:\n",
        "    requests.remove(head)\n",
        "seek_sequence = []\n",
        "seek_count = 0\n",
        "\n",
        "left = [r for r in requests if r < head]\n",
        "right = [r for r in requests if r >= head]\n",
        "for r in reversed(left):\n",
        "    seek_sequence.append(r)\n",
        "    seek_count += abs(head - r)\n",
        "    head = r\n",
        "for r in right:\n",
        "    seek_sequence.append(r)\n",
        "    seek_count += abs(head - r)\n",
        "    head = r\n",
        "\n",
        "print(\"Seek Sequence:\", [original_head] + seek_sequence)\n",
        "print(\"Total seek time:\", seek_count)\n"
      ]
    },
    {
      "cell_type": "code",
      "source": [
        "requests = list(map(int, input(\"Enter requests: \").split()))\n",
        "head = int(input(\"Enter initial head position: \"))\n",
        "\n",
        "original_head = head\n",
        "requests.sort()\n",
        "if head in requests:\n",
        "    requests.remove(head)\n",
        "seek_sequence = []\n",
        "seek_count = 0\n",
        "\n",
        "left = [r for r in requests if r < head]\n",
        "right = [r for r in requests if r >= head]\n",
        "\n",
        "for r in right:\n",
        "    seek_sequence.append(r)\n",
        "    seek_count += abs(head - r)\n",
        "    head = r\n",
        "for r in reversed(left):\n",
        "    seek_sequence.append(r)\n",
        "    seek_count += abs(head - r)\n",
        "    head = r\n",
        "\n",
        "print(\"Seek Sequence:\", [original_head] + seek_sequence)\n",
        "print(\"Total seek time:\", seek_count)"
      ],
      "metadata": {
        "colab": {
          "base_uri": "https://localhost:8080/"
        },
        "id": "2M84NgFULp-U",
        "outputId": "4a753548-1995-4ae0-c9c8-3c24a89e3793"
      },
      "execution_count": 8,
      "outputs": [
        {
          "output_type": "stream",
          "name": "stdout",
          "text": [
            "Enter requests: 14 20 29 40 50 110\n",
            "Enter initial head position: 29\n",
            "Seek Sequence: [29, 40, 50, 110, 20, 14]\n",
            "Total seek time: 177\n"
          ]
        }
      ]
    }
  ]
}