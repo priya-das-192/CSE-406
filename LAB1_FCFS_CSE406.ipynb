{
  "nbformat": 4,
  "nbformat_minor": 0,
  "metadata": {
    "colab": {
      "provenance": []
    },
    "kernelspec": {
      "name": "python3",
      "display_name": "Python 3"
    },
    "language_info": {
      "name": "python"
    }
  },
  "cells": [
    {
      "cell_type": "markdown",
      "source": [
        "FCFS algorithm (using sorted data)"
      ],
      "metadata": {
        "id": "uCCWaSK9f2WE"
      }
    },
    {
      "cell_type": "code",
      "execution_count": 2,
      "metadata": {
        "colab": {
          "base_uri": "https://localhost:8080/"
        },
        "id": "Zd9g5GqFprhH",
        "outputId": "d166cccb-d637-4c77-ee89-c4b467fb308b"
      },
      "outputs": [
        {
          "output_type": "stream",
          "name": "stdout",
          "text": [
            "CT:  [3, 5, 6, 10]\n",
            "TAT:  [3, 4, 4, 7]\n",
            "WT:  [0, 2, 3, 3]\n",
            "avg_WT:  2.0\n"
          ]
        }
      ],
      "source": [
        "pi=[\"p1\",\"p2\",\"p3\",\"p4\"]\n",
        "AT=[0,1,2,3]\n",
        "BT=[3,2,1,4]\n",
        "n=len(pi)\n",
        "CT=[]\n",
        "TAT=[]\n",
        "WT=[]\n",
        "for i in range (n):\n",
        "  if i==0:\n",
        "    CT.append(BT[i])\n",
        "  else:\n",
        "    CT.append(BT[i]+CT[i-1])\n",
        "for i in range (4):\n",
        "  TAT.append(CT[i]-AT[i])\n",
        "  WT.append(TAT[i]-BT[i])\n",
        "for i in range (4):\n",
        "  avg_WT=sum(WT)/n\n",
        "\n",
        "print(\"CT: \",CT)\n",
        "print(\"TAT: \" ,TAT)\n",
        "print(\"WT: \",WT)\n",
        "print(\"avg_WT: \",avg_WT)"
      ]
    },
    {
      "cell_type": "markdown",
      "source": [
        "FCFS algorithm (using user input)"
      ],
      "metadata": {
        "id": "ovPOqf6ugKHI"
      }
    },
    {
      "cell_type": "code",
      "source": [
        "n = int(input(\"Enter number of processes: \"))\n",
        "\n",
        "pi = []\n",
        "AT = []\n",
        "BT = []\n",
        "\n",
        "for i in range(n):\n",
        "    pid = f'P{i+1}'\n",
        "    at = int(input(f\"Enter Arrival Time  {pid}: \"))\n",
        "    bt = int(input(f\"Enter Burst Time {pid}: \"))\n",
        "    pi.append(pid)\n",
        "    AT.append(at)\n",
        "    BT.append(bt)\n",
        "\n",
        "data = []\n",
        "for i in range(n):\n",
        "    data.append([pi[i], AT[i], BT[i]])\n",
        "data.sort(key=lambda x: x[1])\n",
        "\n",
        "pi = []\n",
        "AT = []\n",
        "BT = []\n",
        "for item in data:\n",
        "    pi.append(item[0])\n",
        "    AT.append(item[1])\n",
        "    BT.append(item[2])\n",
        "\n",
        "CT = []\n",
        "TAT = []\n",
        "WT = []\n",
        "\n",
        "for i in range(n):\n",
        "    if i == 0:\n",
        "        CT.append(AT[i]+BT[i])\n",
        "    else:\n",
        "        if AT[i] > CT[i-1]:\n",
        "            CT.append(AT[i]+BT[i])\n",
        "        else:\n",
        "            CT.append(CT[i-1]+BT[i])\n",
        "\n",
        "for i in range(n):\n",
        "    TAT.append(CT[i]-AT[i])\n",
        "    WT.append(TAT[i]-BT[i])\n",
        "\n",
        "avg_WT = sum(WT)/n\n",
        "\n",
        "print(\"\\nCT:\", CT)\n",
        "print(\"TAT:\", TAT)\n",
        "print(\"WT:\", WT)\n",
        "print(\"avg_WT:\", round(avg_WT, 2))\n"
      ],
      "metadata": {
        "id": "wfn4vO-opy9Q",
        "colab": {
          "base_uri": "https://localhost:8080/"
        },
        "outputId": "dca4b59b-7008-4639-fbe4-cdb3584de934"
      },
      "execution_count": 8,
      "outputs": [
        {
          "output_type": "stream",
          "name": "stdout",
          "text": [
            "Enter number of processes: 4\n",
            "Enter Arrival Time  P1: 2\n",
            "Enter Burst Time P1: 1\n",
            "Enter Arrival Time  P2: 0\n",
            "Enter Burst Time P2: 3\n",
            "Enter Arrival Time  P3: 3\n",
            "Enter Burst Time P3: 4\n",
            "Enter Arrival Time  P4: 1\n",
            "Enter Burst Time P4: 5\n",
            "\n",
            "CT: [3, 8, 9, 13]\n",
            "TAT: [3, 7, 7, 10]\n",
            "WT: [0, 2, 6, 6]\n",
            "avg_WT: 3.5\n"
          ]
        }
      ]
    }
  ]
}