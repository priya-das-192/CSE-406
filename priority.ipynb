{
  "nbformat": 4,
  "nbformat_minor": 0,
  "metadata": {
    "colab": {
      "provenance": []
    },
    "kernelspec": {
      "name": "python3",
      "display_name": "Python 3"
    },
    "language_info": {
      "name": "python"
    }
  },
  "cells": [
    {
      "cell_type": "code",
      "execution_count": 3,
      "metadata": {
        "colab": {
          "base_uri": "https://localhost:8080/"
        },
        "id": "bV0A8xrI_g0c",
        "outputId": "f57342a6-e9e9-4dab-caa0-254d7d20cf33"
      },
      "outputs": [
        {
          "output_type": "stream",
          "name": "stdout",
          "text": [
            "Enter number of processes: 5\n",
            "Enter Arrival Time for P1: 0\n",
            "Enter Burst Time for P1: 11\n",
            "Enter Priority for P1 (lower=higher priority): 2\n",
            "Enter Arrival Time for P2: 5\n",
            "Enter Burst Time for P2: 28\n",
            "Enter Priority for P2 (lower=higher priority): 0\n",
            "Enter Arrival Time for P3: 12\n",
            "Enter Burst Time for P3: 2\n",
            "Enter Priority for P3 (lower=higher priority): 3\n",
            "Enter Arrival Time for P4: 2\n",
            "Enter Burst Time for P4: 10\n",
            "Enter Priority for P4 (lower=higher priority): 1\n",
            "Enter Arrival Time for P5: 9\n",
            "Enter Burst Time for P5: 16\n",
            "Enter Priority for P5 (lower=higher priority): 4\n",
            "\n",
            "Process\tAT\tBT\tPriority\tCT\tTAT\tWT\n",
            "P1\t0\t11\t2\t\t11\t11\t0\n",
            "P4\t2\t10\t1\t\t49\t47\t37\n",
            "P2\t5\t28\t0\t\t39\t34\t6\n",
            "P5\t9\t16\t4\t\t67\t58\t42\n",
            "P3\t12\t2\t3\t\t51\t39\t37\n",
            "\n",
            "Average Waiting Time: 24.40\n",
            "Average Turnaround Time: 37.80\n"
          ]
        }
      ],
      "source": [
        "n = int(input(\"Enter number of processes: \"))\n",
        "processes = []\n",
        "\n",
        "for i in range(n):\n",
        "    pid = f\"P{i+1}\"\n",
        "    at = int(input(f\"Enter Arrival Time for {pid}: \"))\n",
        "    bt = int(input(f\"Enter Burst Time for {pid}: \"))\n",
        "    pr = int(input(f\"Enter Priority for {pid} (lower=higher priority): \"))\n",
        "    processes.append([pid, at, bt, pr, 0, 0, 0])\n",
        "processes.sort(key=lambda x: (x[1], x[3]))\n",
        "\n",
        "current_time = 0\n",
        "completed = 0\n",
        "\n",
        "while completed < n:\n",
        "    ready = list(filter(lambda p: p[1] <= current_time and p[4] == 0, processes))\n",
        "\n",
        "    if not ready:\n",
        "        current_time += 1\n",
        "        continue\n",
        "\n",
        "    ready.sort(key=lambda x: x[3])\n",
        "\n",
        "    p = ready[0]\n",
        "    p[4] = current_time + p[2]  # CT\n",
        "    p[5] = p[4] - p[1]          # TAT\n",
        "    p[6] = p[5] - p[2]          # WT\n",
        "    current_time = p[4]\n",
        "    completed += 1\n",
        "\n",
        "print(\"\\nProcess\\tAT\\tBT\\tPriority\\tCT\\tTAT\\tWT\")\n",
        "for p in processes:\n",
        "    print(f\"{p[0]}\\t{p[1]}\\t{p[2]}\\t{p[3]}\\t\\t{p[4]}\\t{p[5]}\\t{p[6]}\")"
      ]
    }
  ]
}