{
  "nbformat": 4,
  "nbformat_minor": 0,
  "metadata": {
    "colab": {
      "provenance": []
    },
    "kernelspec": {
      "name": "python3",
      "display_name": "Python 3"
    },
    "language_info": {
      "name": "python"
    }
  },
  "cells": [
    {
      "cell_type": "code",
      "execution_count": 20,
      "metadata": {
        "colab": {
          "base_uri": "https://localhost:8080/"
        },
        "id": "Zd9g5GqFprhH",
        "outputId": "c08c04d3-51dc-4cc9-b170-14ce735f6794"
      },
      "outputs": [
        {
          "output_type": "stream",
          "name": "stdout",
          "text": [
            "[3, 5, 6, 10]\n",
            "[3, 4, 4, 7]\n",
            "[0, 2, 3, 3]\n"
          ]
        }
      ],
      "source": [
        "pi=[\"p1\",\"p2\",\"p3\",\"p4\"] # Define process identifiers as strings\n",
        "AT=[0,1,2,3]\n",
        "BT=[3,2,1,4]\n",
        "n=len(pi)\n",
        "CT=[]\n",
        "TAT=[]\n",
        "WT=[]\n",
        "for i in range (n):\n",
        "  if i==0: # Iterate up to the second to last element to avoid IndexError\n",
        "    CT.append(BT[i])\n",
        "  else:\n",
        "    CT.append(BT[i]+CT[i-1])\n",
        "for i in range (4):\n",
        "  TAT.append(CT[i]-AT[i])\n",
        "  WT.append(TAT[i]-BT[i])\n",
        "\n",
        "print(CT)\n",
        "print(TAT)\n",
        "print(WT)"
      ]
    },
    {
      "cell_type": "code",
      "source": [],
      "metadata": {
        "id": "wfn4vO-opy9Q"
      },
      "execution_count": null,
      "outputs": []
    }
  ]
}