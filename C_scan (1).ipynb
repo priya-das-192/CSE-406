{
  "nbformat": 4,
  "nbformat_minor": 0,
  "metadata": {
    "colab": {
      "provenance": []
    },
    "kernelspec": {
      "name": "python3",
      "display_name": "Python 3"
    },
    "language_info": {
      "name": "python"
    }
  },
  "cells": [
    {
      "cell_type": "code",
      "execution_count": 3,
      "metadata": {
        "colab": {
          "base_uri": "https://localhost:8080/"
        },
        "id": "ty61f5HjOFKV",
        "outputId": "a228b6f1-4306-4cbc-e506-12d41125385c"
      },
      "outputs": [
        {
          "output_type": "stream",
          "name": "stdout",
          "text": [
            "Enter requests (space separated): 14 20 29 40 50 110\n",
            "Enter initial head position: 29\n",
            "\n",
            "C-SCAN Disk Scheduling (without explicit disk size)\n",
            "Seek Sequence: [29, 40, 50, 110, 14, 20]\n",
            "Total Head Movement: 183\n"
          ]
        }
      ],
      "source": [
        "requests = list(map(int, input(\"Enter requests (space separated): \").split()))\n",
        "head = int(input(\"Enter initial head position: \"))\n",
        "\n",
        "original_head = head\n",
        "\n",
        "requests.sort()\n",
        "if head in requests:\n",
        "    requests.remove(head)\n",
        "seek_sequence = []\n",
        "seek_count = 0\n",
        "\n",
        "left = [r for r in requests if r < head]\n",
        "right = [r for r in requests if r >= head]\n",
        "\n",
        "if not requests:\n",
        "    print(\"No requests to process.\")\n",
        "    exit()\n",
        "\n",
        "disk_end = max(max(requests), head)\n",
        "disk_start = min(min(requests), head)\n",
        "\n",
        "for r in right:\n",
        "    seek_sequence.append(r)\n",
        "    seek_count += abs(head - r)\n",
        "    head = r\n",
        "\n",
        "if left:\n",
        "    seek_count += abs(head - disk_end)\n",
        "    head = disk_start\n",
        "    seek_count += abs(disk_end - disk_start)\n",
        "\n",
        "    for r in left:\n",
        "        seek_sequence.append(r)\n",
        "        seek_count += abs(head - r)\n",
        "        head = r\n",
        "\n",
        "print(\"Seek Sequence:\", [original_head] + seek_sequence)\n",
        "print(\"Total Head Movement:\", seek_count)\n"
      ]
    },
    {
      "cell_type": "code",
      "source": [
        "requests = list(map(int, input(\"Enter requests (space separated): \").split()))\n",
        "head = int(input(\"Enter initial head position: \"))\n",
        "\n",
        "original_head = head\n",
        "\n",
        "requests.sort()\n",
        "if head in requests:\n",
        "    requests.remove(head)\n",
        "seek_sequence = []\n",
        "seek_count = 0\n",
        "\n",
        "left = [r for r in requests if r <= head]\n",
        "right = [r for r in requests if r > head]\n",
        "\n",
        "if not requests:\n",
        "    print(\"No requests to process.\")\n",
        "    exit()\n",
        "\n",
        "disk_end = max(max(requests), head)\n",
        "disk_start = min(min(requests), head)\n",
        "\n",
        "for r in reversed(left):\n",
        "    seek_sequence.append(r)\n",
        "    seek_count += abs(head - r)\n",
        "    head = r\n",
        "\n",
        "if right:\n",
        "    seek_count += abs(head - disk_start)\n",
        "    head = disk_end\n",
        "\n",
        "    seek_count += abs(disk_end - disk_start)\n",
        "\n",
        "    for r in reversed(right):\n",
        "        seek_sequence.append(r)\n",
        "        seek_count += abs(head - r)\n",
        "        head = r\n",
        "\n",
        "print(\"Seek Sequence:\", [original_head] + seek_sequence)\n",
        "print(\"Total Head Movement:\", seek_count)\n",
        "\n"
      ],
      "metadata": {
        "colab": {
          "base_uri": "https://localhost:8080/"
        },
        "id": "6W1376gvOaGM",
        "outputId": "580bb154-28f0-40d2-842b-960ee8db7fce"
      },
      "execution_count": 4,
      "outputs": [
        {
          "output_type": "stream",
          "name": "stdout",
          "text": [
            "Enter requests (space separated): 14 20 29 40 50 110\n",
            "Enter initial head position: 29\n",
            "Seek Sequence: [29, 20, 14, 110, 50, 40]\n",
            "Total Head Movement: 181\n"
          ]
        }
      ]
    }
  ]
}